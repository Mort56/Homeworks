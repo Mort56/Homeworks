{
  "nbformat": 4,
  "nbformat_minor": 0,
  "metadata": {
    "colab": {
      "provenance": [],
      "include_colab_link": true
    },
    "kernelspec": {
      "name": "python3",
      "display_name": "Python 3"
    },
    "language_info": {
      "name": "python"
    }
  },
  "cells": [
    {
      "cell_type": "markdown",
      "metadata": {
        "id": "view-in-github",
        "colab_type": "text"
      },
      "source": [
        "<a href=\"https://colab.research.google.com/github/Mort56/Homeworks/blob/main/untitled.ipynb\" target=\"_parent\"><img src=\"https://colab.research.google.com/assets/colab-badge.svg\" alt=\"Open In Colab\"/></a>"
      ]
    },
    {
      "cell_type": "markdown",
      "source": [
        "# Задача 1\n",
        "Написать программу, вычисляющую объем и площадь поверхности\n",
        "цилиндра по заданным радиусу и высоте."
      ],
      "metadata": {
        "id": "-QEVT8r7SeHg"
      }
    },
    {
      "cell_type": "code",
      "execution_count": null,
      "metadata": {
        "colab": {
          "base_uri": "https://localhost:8080/"
        },
        "id": "_zP0IVlBOCKc",
        "outputId": "d1f08769-ecb1-46b7-d6ed-74c134ea4bfd"
      },
      "outputs": [
        {
          "output_type": "stream",
          "name": "stdout",
          "text": [
            "Введите радиус цилиндра: 5\n",
            "Введите высоту цилиндра: 25\n",
            "Площадь цилиндра с радиусом 5 = 78\n",
            "Обьем цилиндра с радиусом 5 и высотой 25 = 1963\n"
          ]
        }
      ],
      "source": [
        "import math\n",
        "r = int(input(\"Введите радиус цилиндра: \"))\n",
        "h = int(input(\"Введите высоту цилиндра: \"))\n",
        "S = math.pi * r**2\n",
        "print(f\"Площадь цилиндра с радиусом {r} = {int(S)}\")\n",
        "V = S * h\n",
        "print(f\"Обьем цилиндра с радиусом {r} и высотой {h} = {int(V)}\")"
      ]
    },
    {
      "cell_type": "markdown",
      "source": [
        "# Задача 2\n",
        "Написать программу, вычисляющую корень квадратного уравнения"
      ],
      "metadata": {
        "id": "JeZJ64SfS1zB"
      }
    },
    {
      "cell_type": "code",
      "source": [
        "import math\n",
        "a = int(input(\"Введите значение переменной a: \"))\n",
        "b = int(input(\"Введите значение переменной b: \"))\n",
        "c = int(input(\"Введите значение переменной c: \"))\n",
        "D = b**2 - 4*a*c\n",
        "if(D > 0):\n",
        "  x1 = int((-b - math.sqrt(D)) / (a*2))\n",
        "  x2 = int((-b + math.sqrt(D)) / (a*2))\n",
        "  print(f\"X1 = {x1}, X2 = {x2}\")\n",
        "elif(D == 0):\n",
        "  x = int(-b / (a*2))\n",
        "  print(F\"X = {x}\")\n",
        "else:\n",
        "  print(\"Нет корней\")"
      ],
      "metadata": {
        "colab": {
          "base_uri": "https://localhost:8080/"
        },
        "id": "2iMf0d0qS_DX",
        "outputId": "daaec77a-3821-41fd-a3ef-86e2329bee3d"
      },
      "execution_count": null,
      "outputs": [
        {
          "output_type": "stream",
          "name": "stdout",
          "text": [
            "Введите значение переменной a: 1\n",
            "Введите значение переменной b: -6\n",
            "Введите значение переменной c: 9\n",
            "X = 3\n"
          ]
        }
      ]
    },
    {
      "cell_type": "markdown",
      "source": [
        "# Задача 3\n",
        "На основе массива А сформировать массив B, в котором элементы расположены в порядке возрастания"
      ],
      "metadata": {
        "id": "pNYerzXJXc7O"
      }
    },
    {
      "cell_type": "code",
      "source": [
        "import random\n",
        "A = []\n",
        "for i in range(10):\n",
        "  A.append(random.randint(-100, 100))\n",
        "print(f\"A = {A}\")\n",
        "B = [min(A)]\n",
        "min = 100\n",
        "\n",
        "while len(B) != len(A):\n",
        "  for i in range(10):\n",
        "    if (A[i] < min) & (A[i] not in B):\n",
        "      min = A[i]\n",
        "  B.append(min)\n",
        "  min = 100\n",
        "print(f\"B = {B}\")"
      ],
      "metadata": {
        "colab": {
          "base_uri": "https://localhost:8080/"
        },
        "id": "6T5pJv-kdeTH",
        "outputId": "47f19f8b-f178-4882-89db-5b025bc09280"
      },
      "execution_count": null,
      "outputs": [
        {
          "output_type": "stream",
          "name": "stdout",
          "text": [
            "A = [-99, -88, -64, 25, -33, 57, -91, 62, -89, 65]\n",
            "B = [-99, -91, -89, -88, -64, -33, 25, 57, 62, 65]\n"
          ]
        }
      ]
    },
    {
      "cell_type": "markdown",
      "source": [
        "# Задача 4\n",
        "Решить задачу 3 через собственную функцию сортировки"
      ],
      "metadata": {
        "id": "67wFNy06suhh"
      }
    },
    {
      "cell_type": "code",
      "source": [
        "import random\n",
        "\n",
        "def sort(A):\n",
        "    for i in range(0, 9):\n",
        "      for j in range(i + 1, 10):\n",
        "        if A[i] > A[j]:\n",
        "          a = A[i]\n",
        "          A[i] = A[j]\n",
        "          A[j] = a\n",
        "    return A\n",
        "\n",
        "def main():\n",
        "    A = []\n",
        "    for i in range(10):\n",
        "        A.append(random.randint(-100, 100))\n",
        "    print(f\"A = {A}\")\n",
        "\n",
        "    print(\"Отсортируем массив A\")\n",
        "    A = sort(A)\n",
        "    print(f\"A = {A}\")\n",
        "\n",
        "main()"
      ],
      "metadata": {
        "id": "VJCApV5ttBWe",
        "outputId": "7682e5ac-8b2f-4e89-d79b-142f4b8b3386",
        "colab": {
          "base_uri": "https://localhost:8080/"
        }
      },
      "execution_count": null,
      "outputs": [
        {
          "output_type": "stream",
          "name": "stdout",
          "text": [
            "A = [45, 24, 33, -53, 89, 28, 92, 4, -12, 90]\n",
            "Отсортируем массив A\n",
            "A = [-53, -12, 4, 24, 28, 33, 45, 89, 90, 92]\n"
          ]
        }
      ]
    },
    {
      "cell_type": "code",
      "source": [
        "import random\n",
        "\n",
        "def selectSort(A):\n",
        "    n = len(A)\n",
        "    for i in range(0, n - 1):\n",
        "      for j in range(i + 1, n):\n",
        "        if A[i] > A[j]:\n",
        "          A[i], A[j] = A[j], A[i]\n",
        "\n",
        "def gen_sec(n):\n",
        "  A = []\n",
        "  for i in range(n):\n",
        "    A.append(random.randint(0, n))\n",
        "  return A\n",
        "\n",
        "n = 15\n",
        "A = gen_sec(n)\n",
        "print(f\"A = {A}\")\n",
        "selectSort(A)\n",
        "print(f\"A = {A}\")\n"
      ],
      "metadata": {
        "id": "TOIk9MDUOn9B",
        "outputId": "1a6f57c9-5a5a-4863-b8f2-4356429568da",
        "colab": {
          "base_uri": "https://localhost:8080/"
        }
      },
      "execution_count": null,
      "outputs": [
        {
          "output_type": "stream",
          "name": "stdout",
          "text": [
            "A = [9, 4, 8, 4, 15, 15, 13, 1, 13, 15, 13, 4, 10, 4, 15]\n",
            "A = [1, 4, 4, 4, 4, 8, 9, 10, 13, 13, 13, 15, 15, 15, 15]\n"
          ]
        }
      ]
    },
    {
      "cell_type": "markdown",
      "source": [
        "Реализовать сортировку методом пузырька"
      ],
      "metadata": {
        "id": "qoN5DHp-xuUb"
      }
    },
    {
      "cell_type": "code",
      "source": [
        "import random\n",
        "\n",
        "def bubbleSort(A):\n",
        "    n = len(A)\n",
        "    for i in range(0, n - 1):\n",
        "      for j in range(1, n - i):\n",
        "        if A[j - 1] > A[j]:\n",
        "          A[j - 1], A[j] = A[j], A[j - 1]\n",
        "\n",
        "def gen_sec(n):\n",
        "  A = []\n",
        "  for i in range(n):\n",
        "    A.append(random.randint(0, n))\n",
        "  return A\n",
        "\n",
        "n = 10\n",
        "A = gen_sec(n)\n",
        "A = [3, 4, 5, 6, 1]\n",
        "print(f\"A = {A}\")\n",
        "bubbleSort(A)\n",
        "print(f\"A = {A}\")\n"
      ],
      "metadata": {
        "colab": {
          "base_uri": "https://localhost:8080/"
        },
        "id": "p_zQwEb7xzfx",
        "outputId": "a2bb1024-8986-4b4a-af11-612ab8d9e4a0"
      },
      "execution_count": null,
      "outputs": [
        {
          "output_type": "stream",
          "name": "stdout",
          "text": [
            "A = [3, 4, 5, 6, 1]\n",
            "A = [1, 3, 4, 5, 6]\n"
          ]
        }
      ]
    },
    {
      "cell_type": "code",
      "source": [
        "A.__len__()\n",
        "len(A)"
      ],
      "metadata": {
        "colab": {
          "base_uri": "https://localhost:8080/"
        },
        "id": "Nu5cdwif2jXH",
        "outputId": "1c430711-34bc-4a7f-d0bd-e56cfcf85cef"
      },
      "execution_count": null,
      "outputs": [
        {
          "output_type": "execute_result",
          "data": {
            "text/plain": [
              "6"
            ]
          },
          "metadata": {},
          "execution_count": 13
        }
      ]
    },
    {
      "cell_type": "markdown",
      "source": [
        "# Задача 5\n",
        "Найт число пи"
      ],
      "metadata": {
        "id": "pkGWEOST9O1Z"
      }
    },
    {
      "cell_type": "code",
      "source": [
        "import random\n",
        "import math\n",
        "\n",
        "def isInCircle(R):\n",
        "  x = random.random() * 2 * R - R;\n",
        "  y = random.random() * 2 * R - R;\n",
        "  d = math.sqrt(x**2 + y**2)\n",
        "  if d < R:\n",
        "    return True\n",
        "  else:\n",
        "    return False\n",
        "\n",
        "N = 10000000\n",
        "n = 0\n",
        "R = 10\n",
        "for i in range(N):\n",
        "  if isInCircle(R):\n",
        "    n += 1\n",
        "\n",
        "pi = 4 * n / N\n",
        "print(pi)\n",
        "\n"
      ],
      "metadata": {
        "id": "ZD0z3AWk9VOI",
        "colab": {
          "base_uri": "https://localhost:8080/"
        },
        "outputId": "ad9790c5-dfdf-4e00-c942-7e22376d1db9"
      },
      "execution_count": null,
      "outputs": [
        {
          "output_type": "stream",
          "name": "stdout",
          "text": [
            "3.1414512\n"
          ]
        }
      ]
    }
  ]
}