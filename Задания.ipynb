{
  "nbformat": 4,
  "nbformat_minor": 0,
  "metadata": {
    "colab": {
      "provenance": [],
      "include_colab_link": true
    },
    "kernelspec": {
      "name": "python3",
      "display_name": "Python 3"
    },
    "language_info": {
      "name": "python"
    }
  },
  "cells": [
    {
      "cell_type": "markdown",
      "metadata": {
        "id": "view-in-github",
        "colab_type": "text"
      },
      "source": [
        "<a href=\"https://colab.research.google.com/github/Mort56/Homeworks/blob/main/%D0%97%D0%B0%D0%B4%D0%B0%D0%BD%D0%B8%D1%8F.ipynb\" target=\"_parent\"><img src=\"https://colab.research.google.com/assets/colab-badge.svg\" alt=\"Open In Colab\"/></a>"
      ]
    },
    {
      "cell_type": "markdown",
      "source": [
        "# Задача 1\n",
        "Написать программу, вычисляющую объем и площадь поверхности\n",
        "цилиндра по заданным радиусу и высоте."
      ],
      "metadata": {
        "id": "-QEVT8r7SeHg"
      }
    },
    {
      "cell_type": "code",
      "execution_count": null,
      "metadata": {
        "colab": {
          "base_uri": "https://localhost:8080/"
        },
        "id": "_zP0IVlBOCKc",
        "outputId": "d1f08769-ecb1-46b7-d6ed-74c134ea4bfd"
      },
      "outputs": [
        {
          "output_type": "stream",
          "name": "stdout",
          "text": [
            "Введите радиус цилиндра: 5\n",
            "Введите высоту цилиндра: 25\n",
            "Площадь цилиндра с радиусом 5 = 78\n",
            "Обьем цилиндра с радиусом 5 и высотой 25 = 1963\n"
          ]
        }
      ],
      "source": [
        "import math\n",
        "r = int(input(\"Введите радиус цилиндра: \"))\n",
        "h = int(input(\"Введите высоту цилиндра: \"))\n",
        "S = math.pi * r**2\n",
        "print(f\"Площадь цилиндра с радиусом {r} = {int(S)}\")\n",
        "V = S * h\n",
        "print(f\"Обьем цилиндра с радиусом {r} и высотой {h} = {int(V)}\")"
      ]
    },
    {
      "cell_type": "markdown",
      "source": [
        "# Задача 2\n",
        "Написать программу, вычисляющую корень квадратного уравнения"
      ],
      "metadata": {
        "id": "JeZJ64SfS1zB"
      }
    },
    {
      "cell_type": "code",
      "source": [
        "import math\n",
        "a = int(input(\"Введите значение переменной a: \"))\n",
        "b = int(input(\"Введите значение переменной b: \"))\n",
        "c = int(input(\"Введите значение переменной c: \"))\n",
        "D = b**2 - 4*a*c\n",
        "if(D > 0):\n",
        "  x1 = int((-b - math.sqrt(D)) / (a*2))\n",
        "  x2 = int((-b + math.sqrt(D)) / (a*2))\n",
        "  print(f\"X1 = {x1}, X2 = {x2}\")\n",
        "elif(D == 0):\n",
        "  x = int(-b / (a*2))\n",
        "  print(F\"X = {x}\")\n",
        "else:\n",
        "  print(\"Нет корней\")"
      ],
      "metadata": {
        "colab": {
          "base_uri": "https://localhost:8080/"
        },
        "id": "2iMf0d0qS_DX",
        "outputId": "daaec77a-3821-41fd-a3ef-86e2329bee3d"
      },
      "execution_count": null,
      "outputs": [
        {
          "output_type": "stream",
          "name": "stdout",
          "text": [
            "Введите значение переменной a: 1\n",
            "Введите значение переменной b: -6\n",
            "Введите значение переменной c: 9\n",
            "X = 3\n"
          ]
        }
      ]
    },
    {
      "cell_type": "markdown",
      "source": [
        "# Задача 3\n",
        "На основе массива А сформировать массив B, в котором элементы расположены в порядке возрастания"
      ],
      "metadata": {
        "id": "pNYerzXJXc7O"
      }
    },
    {
      "cell_type": "code",
      "source": [
        "import random\n",
        "A = []\n",
        "for i in range(10):\n",
        "  A.append(random.randint(-100, 100))\n",
        "print(f\"A = {A}\")\n",
        "B = [min(A)]\n",
        "min = 100\n",
        "\n",
        "while len(B) != len(A):\n",
        "  for i in range(10):\n",
        "    if (A[i] < min) & (A[i] not in B):\n",
        "      min = A[i]\n",
        "  B.append(min)\n",
        "  min = 100\n",
        "print(f\"B = {B}\")"
      ],
      "metadata": {
        "colab": {
          "base_uri": "https://localhost:8080/"
        },
        "id": "6T5pJv-kdeTH",
        "outputId": "47f19f8b-f178-4882-89db-5b025bc09280"
      },
      "execution_count": null,
      "outputs": [
        {
          "output_type": "stream",
          "name": "stdout",
          "text": [
            "A = [-99, -88, -64, 25, -33, 57, -91, 62, -89, 65]\n",
            "B = [-99, -91, -89, -88, -64, -33, 25, 57, 62, 65]\n"
          ]
        }
      ]
    },
    {
      "cell_type": "markdown",
      "source": [
        "# Задача 4\n",
        "Решить задачу 3 через функцию сортировки выбором"
      ],
      "metadata": {
        "id": "67wFNy06suhh"
      }
    },
    {
      "cell_type": "code",
      "source": [
        "import random\n",
        "\n",
        "def sort(A):\n",
        "    for i in range(0, 9):\n",
        "      for j in range(i + 1, 10):\n",
        "        if A[i] > A[j]:\n",
        "          a = A[i]\n",
        "          A[i] = A[j]\n",
        "          A[j] = a\n",
        "    return A\n",
        "\n",
        "def main():\n",
        "    A = []\n",
        "    for i in range(10):\n",
        "        A.append(random.randint(-100, 100))\n",
        "    print(f\"A = {A}\")\n",
        "\n",
        "    print(\"Отсортируем массив A\")\n",
        "    A = sort(A)\n",
        "    print(f\"A = {A}\")\n",
        "\n",
        "main()"
      ],
      "metadata": {
        "id": "VJCApV5ttBWe",
        "outputId": "7682e5ac-8b2f-4e89-d79b-142f4b8b3386",
        "colab": {
          "base_uri": "https://localhost:8080/"
        }
      },
      "execution_count": null,
      "outputs": [
        {
          "output_type": "stream",
          "name": "stdout",
          "text": [
            "A = [45, 24, 33, -53, 89, 28, 92, 4, -12, 90]\n",
            "Отсортируем массив A\n",
            "A = [-53, -12, 4, 24, 28, 33, 45, 89, 90, 92]\n"
          ]
        }
      ]
    },
    {
      "cell_type": "code",
      "source": [
        "import random\n",
        "\n",
        "def selectSort(A, n):\n",
        "    for i in range(0, n - 1):\n",
        "      for j in range(i + 1, n):\n",
        "        if A[i] > A[j]:\n",
        "          A[i], A[j] = A[j], A[i]\n",
        "\n",
        "def gen_sec(n):\n",
        "  A = []\n",
        "  for i in range(n):\n",
        "    A.append(random.randint(0, n))\n",
        "  return A\n",
        "\n",
        "n = 15\n",
        "A = gen_sec(n)\n",
        "selectSort(A,n)\n",
        "print(f\"A = {A}\")\n"
      ],
      "metadata": {
        "id": "TOIk9MDUOn9B",
        "outputId": "c1687fca-ffff-4f95-c9b3-e2893ab08b83",
        "colab": {
          "base_uri": "https://localhost:8080/"
        }
      },
      "execution_count": null,
      "outputs": [
        {
          "output_type": "stream",
          "name": "stdout",
          "text": [
            "A = [0, 0, 1, 2, 4, 9, 9, 9, 9, 10, 11, 12, 13, 14, 15]\n"
          ]
        }
      ]
    },
    {
      "cell_type": "markdown",
      "source": [
        "Решить задачу 4 через функцию сортировки пузыриком"
      ],
      "metadata": {
        "id": "FYYDnzQ1mp3H"
      }
    },
    {
      "cell_type": "code",
      "source": [
        "import random\n",
        "\n",
        "def bubbleSort(A):\n",
        "    n = len(A)\n",
        "    for i in range(0, n - 1):\n",
        "      for j in range(1, n - i):\n",
        "        if A[j - 1] > A[j]:\n",
        "          A[j - 1], A[j] = A[j], A[j - 1]\n",
        "\n",
        "def gen_sec(n):\n",
        "  A = []\n",
        "  for i in range(n):\n",
        "    A.append(random.randint(0, n))\n",
        "  return A\n",
        "\n",
        "n = 10\n",
        "A = gen_sec(n)\n",
        "A = [3, 4, 5, 6, 1]\n",
        "print(f\"A = {A}\")\n",
        "bubbleSort(A)\n",
        "print(f\"A = {A}\")"
      ],
      "metadata": {
        "colab": {
          "base_uri": "https://localhost:8080/"
        },
        "id": "BJ5L0ZximxIn",
        "outputId": "3893c9ff-31d3-409a-fa5a-437cbbd4c48c"
      },
      "execution_count": null,
      "outputs": [
        {
          "output_type": "stream",
          "name": "stdout",
          "text": [
            "A = [3, 4, 5, 6, 1]\n",
            "A = [1, 3, 4, 5, 6]\n"
          ]
        }
      ]
    },
    {
      "cell_type": "markdown",
      "source": [
        "Реализовать сортировку вставкой"
      ],
      "metadata": {
        "id": "kHtIaDKv3EAk"
      }
    },
    {
      "cell_type": "code",
      "source": [
        "import random\n",
        "\n",
        "def insert_sort(list_to_sort):\n",
        "    i = 1\n",
        "    while i < len(list_to_sort):\n",
        "        forInsert = list_to_sort[i]\n",
        "        j = i - 1\n",
        "\n",
        "        while j >= 0 and list_to_sort[j] > forInsert:\n",
        "            list_to_sort[j + 1] = list_to_sort[j]\n",
        "            j -= 1\n",
        "\n",
        "        list_to_sort[j + 1] = forInsert\n",
        "        i += 1\n",
        "\n",
        "    return list_to_sort\n",
        "\n",
        "def gen_sec(n):\n",
        "  A = []\n",
        "  for i in range(n):\n",
        "    A.append(random.randint(0, n))\n",
        "  return A\n",
        "\n",
        "n = 10\n",
        "A = gen_sec(n)\n",
        "print(f\"A = {A}\")\n",
        "insert_sort(A)\n",
        "print(f\"A = {A}\")"
      ],
      "metadata": {
        "colab": {
          "base_uri": "https://localhost:8080/"
        },
        "id": "aSdyHulE3G8b",
        "outputId": "1fac8bc6-030f-40c6-bf9c-9e0d3d21ecf0"
      },
      "execution_count": 23,
      "outputs": [
        {
          "output_type": "stream",
          "name": "stdout",
          "text": [
            "A = [8, 8, 7, 5, 1, 7, 7, 3, 0, 10]\n",
            "A = [0, 1, 3, 5, 7, 7, 7, 8, 8, 10]\n"
          ]
        }
      ]
    },
    {
      "cell_type": "markdown",
      "source": [
        "# Задача 5\n",
        "Найти число пи"
      ],
      "metadata": {
        "id": "NA_rpqaJm726"
      }
    },
    {
      "cell_type": "code",
      "source": [
        "import random\n",
        "import math\n",
        "\n",
        "def isInCircle(R, x, y):\n",
        "\n",
        "  d = math.sqrt(x**2 + y**2)\n",
        "  if d <= R:\n",
        "    return True\n",
        "  else:\n",
        "    return False\n",
        "\n",
        "N = 1000000\n",
        "n = 0\n",
        "R = 10\n",
        "for i in range(N):\n",
        "  x = random.random() * 2 * R - R;\n",
        "  y = random.random() * 2 * R - R;\n",
        "  if isInCircle(R, x, y):\n",
        "    n += 1\n",
        "\n",
        "pi = 4 * n / N\n",
        "print(pi)"
      ],
      "metadata": {
        "colab": {
          "base_uri": "https://localhost:8080/"
        },
        "id": "-6ypxvn9nBlR",
        "outputId": "90f013bd-31ec-457d-fd54-2800e61aa2f8"
      },
      "execution_count": 22,
      "outputs": [
        {
          "output_type": "stream",
          "name": "stdout",
          "text": [
            "3.14134\n"
          ]
        }
      ]
    },
    {
      "cell_type": "markdown",
      "source": [
        "# Задача 6"
      ],
      "metadata": {
        "id": "icO8G-tcDuFl"
      }
    },
    {
      "cell_type": "code",
      "source": [
        "import random\n",
        "\n",
        "def bubbleSort(A):\n",
        "    n = len(A)\n",
        "    for i in range(0, n - 1):\n",
        "      for j in range(1, n - i):\n",
        "        if A[j - 1] > A[j]:\n",
        "          A[j - 1], A[j] = A[j], A[j - 1]\n",
        "\n",
        "def gen_sec(n):\n",
        "  A = []\n",
        "  for i in range(n):\n",
        "    A.append(random.randint(0, n))\n",
        "  return A\n",
        "\n",
        "def binarySearch(list_to_sort, k):\n",
        "  i = 0\n",
        "  j = 0\n",
        "  l = len(list_to_sort)\n",
        "  new_list = []\n",
        "\n",
        "  for i in range():\n",
        "    l /= 2\n",
        "    if list_to_sort[l] > k:\n",
        "\n",
        "\n",
        "  return (i, j)\n",
        "\n",
        "\n",
        "n = 20\n",
        "k = 10\n",
        "\n",
        "A = gen_sec(n)\n",
        "print(f\"A = {A}\")\n",
        "\n",
        "bubbleSort(A)\n",
        "print(f\"A = {A}\")\n",
        "\n",
        "binarySearch(A, k)\n",
        "print(f\"A = {A}\")"
      ],
      "metadata": {
        "id": "8hExJnfHD1Fr",
        "outputId": "6da35a00-9ca1-4d87-a709-65abc433f704",
        "colab": {
          "base_uri": "https://localhost:8080/"
        }
      },
      "execution_count": 25,
      "outputs": [
        {
          "output_type": "stream",
          "name": "stdout",
          "text": [
            "A = [9, 18, 2, 9, 17, 2, 2, 1, 13, 6, 18, 3, 20, 1, 10, 3, 16, 15, 19, 18]\n",
            "A = [1, 1, 2, 2, 2, 3, 3, 6, 9, 9, 10, 13, 15, 16, 17, 18, 18, 18, 19, 20]\n"
          ]
        }
      ]
    }
  ]
}