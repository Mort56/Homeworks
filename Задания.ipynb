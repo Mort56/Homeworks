{
  "nbformat": 4,
  "nbformat_minor": 0,
  "metadata": {
    "colab": {
      "provenance": [],
      "toc_visible": true,
      "include_colab_link": true
    },
    "kernelspec": {
      "name": "python3",
      "display_name": "Python 3"
    },
    "language_info": {
      "name": "python"
    }
  },
  "cells": [
    {
      "cell_type": "markdown",
      "metadata": {
        "id": "view-in-github",
        "colab_type": "text"
      },
      "source": [
        "<a href=\"https://colab.research.google.com/github/Mort56/Homeworks/blob/main/%D0%97%D0%B0%D0%B4%D0%B0%D0%BD%D0%B8%D1%8F.ipynb\" target=\"_parent\"><img src=\"https://colab.research.google.com/assets/colab-badge.svg\" alt=\"Open In Colab\"/></a>"
      ]
    },
    {
      "cell_type": "markdown",
      "source": [
        "# Задача 1\n",
        "Написать программу, вычисляющую объем и площадь поверхности\n",
        "цилиндра по заданным радиусу и высоте."
      ],
      "metadata": {
        "id": "-QEVT8r7SeHg"
      }
    },
    {
      "cell_type": "code",
      "execution_count": null,
      "metadata": {
        "colab": {
          "base_uri": "https://localhost:8080/"
        },
        "id": "_zP0IVlBOCKc",
        "outputId": "d1f08769-ecb1-46b7-d6ed-74c134ea4bfd"
      },
      "outputs": [
        {
          "output_type": "stream",
          "name": "stdout",
          "text": [
            "Введите радиус цилиндра: 5\n",
            "Введите высоту цилиндра: 25\n",
            "Площадь цилиндра с радиусом 5 = 78\n",
            "Обьем цилиндра с радиусом 5 и высотой 25 = 1963\n"
          ]
        }
      ],
      "source": [
        "import math\n",
        "r = int(input(\"Введите радиус цилиндра: \"))\n",
        "h = int(input(\"Введите высоту цилиндра: \"))\n",
        "S = math.pi * r**2\n",
        "print(f\"Площадь цилиндра с радиусом {r} = {int(S)}\")\n",
        "V = S * h\n",
        "print(f\"Обьем цилиндра с радиусом {r} и высотой {h} = {int(V)}\")"
      ]
    },
    {
      "cell_type": "markdown",
      "source": [
        "# Задача 2\n",
        "Написать программу, вычисляющую корень квадратного уравнения"
      ],
      "metadata": {
        "id": "JeZJ64SfS1zB"
      }
    },
    {
      "cell_type": "code",
      "source": [
        "import math\n",
        "a = int(input(\"Введите значение переменной a: \"))\n",
        "b = int(input(\"Введите значение переменной b: \"))\n",
        "c = int(input(\"Введите значение переменной c: \"))\n",
        "D = b**2 - 4*a*c\n",
        "if(D > 0):\n",
        "  x1 = int((-b - math.sqrt(D)) / (a*2))\n",
        "  x2 = int((-b + math.sqrt(D)) / (a*2))\n",
        "  print(f\"X1 = {x1}, X2 = {x2}\")\n",
        "elif(D == 0):\n",
        "  x = int(-b / (a*2))\n",
        "  print(F\"X = {x}\")\n",
        "else:\n",
        "  print(\"Нет корней\")"
      ],
      "metadata": {
        "colab": {
          "base_uri": "https://localhost:8080/"
        },
        "id": "2iMf0d0qS_DX",
        "outputId": "daaec77a-3821-41fd-a3ef-86e2329bee3d"
      },
      "execution_count": null,
      "outputs": [
        {
          "output_type": "stream",
          "name": "stdout",
          "text": [
            "Введите значение переменной a: 1\n",
            "Введите значение переменной b: -6\n",
            "Введите значение переменной c: 9\n",
            "X = 3\n"
          ]
        }
      ]
    },
    {
      "cell_type": "markdown",
      "source": [
        "# Задача 3\n",
        "На основе массива А сформировать массив B, в котором элементы расположены в порядке возрастания"
      ],
      "metadata": {
        "id": "pNYerzXJXc7O"
      }
    },
    {
      "cell_type": "code",
      "source": [
        "import random\n",
        "A = []\n",
        "for i in range(10):\n",
        "  A.append(random.randint(-100, 100))\n",
        "print(f\"A = {A}\")\n",
        "B = [min(A)]\n",
        "min = 100\n",
        "\n",
        "while len(B) != len(A):\n",
        "  for i in range(10):\n",
        "    if (A[i] < min) & (A[i] not in B):\n",
        "      min = A[i]\n",
        "  B.append(min)\n",
        "  min = 100\n",
        "print(f\"B = {B}\")"
      ],
      "metadata": {
        "colab": {
          "base_uri": "https://localhost:8080/"
        },
        "id": "6T5pJv-kdeTH",
        "outputId": "47f19f8b-f178-4882-89db-5b025bc09280"
      },
      "execution_count": null,
      "outputs": [
        {
          "output_type": "stream",
          "name": "stdout",
          "text": [
            "A = [-99, -88, -64, 25, -33, 57, -91, 62, -89, 65]\n",
            "B = [-99, -91, -89, -88, -64, -33, 25, 57, 62, 65]\n"
          ]
        }
      ]
    },
    {
      "cell_type": "markdown",
      "source": [
        "# Задача 4\n",
        "Решить задачу 3 через собственную функцию сортировки"
      ],
      "metadata": {
        "id": "67wFNy06suhh"
      }
    },
    {
      "cell_type": "code",
      "source": [
        "import random\n",
        "\n",
        "def sort(A):\n",
        "    for i in range(0, 9):\n",
        "      for j in range(i, 10):\n",
        "        if A[i] > A[j]:\n",
        "          a = A[i]\n",
        "          A[i] = A[j]\n",
        "          A[j] = a\n",
        "    return A\n",
        "\n",
        "def main():\n",
        "    A = []\n",
        "    for i in range(10):\n",
        "        A.append(random.randint(-100, 100))\n",
        "    print(f\"A = {A}\")\n",
        "\n",
        "    print(\"Отсортируем массив A\")\n",
        "    A = sort(A)\n",
        "    print(f\"A = {A}\")\n",
        "\n",
        "if __name__ == \"__main__\":\n",
        "    main()"
      ],
      "metadata": {
        "id": "VJCApV5ttBWe",
        "outputId": "cfb5423b-fcd5-4c31-f750-3bb2e9c16a6c",
        "colab": {
          "base_uri": "https://localhost:8080/"
        }
      },
      "execution_count": 5,
      "outputs": [
        {
          "output_type": "stream",
          "name": "stdout",
          "text": [
            "A = [-59, -43, -70, 7, -40, 76, -72, -15, 12, 46]\n",
            "Отсортируем массив A\n",
            "A = [-72, -70, -59, -43, -40, -15, 7, 12, 46, 76]\n"
          ]
        }
      ]
    }
  ]
}